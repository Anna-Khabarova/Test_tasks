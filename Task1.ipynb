{
 "cells": [
  {
   "cell_type": "markdown",
   "id": "35930fe1",
   "metadata": {},
   "source": [
    "## Тестовое задание1\n",
    "LTV пожизненная ценность клиента, вся прибль от клиента за период, что он взаимодействует с компанией (продуктом). Для расчета LTV предложенного кейса нужно проанализировать входные данные. Видно, что нам доступны события пользователей за короткий период с 01.01.2020 по 20.02.2020. Так как нет никаких дополнительных данных, связанных с тратами на клиента, то можно провести высокоуровневый расчет LTV. Статистические данные представлены за 52 дня, для когортного анализа лучше выбрать гранулярность в неделю, что упращает расчет, тк подписка тоже действует неделю."
   ]
  },
  {
   "cell_type": "markdown",
   "id": "541f1c90",
   "metadata": {},
   "source": [
    "Сначала проводим загрузку данных, их контроль и необходимые преобразования. Затем - расчет LTV на каждой неделе. При чем код построен таким образом, что если у нас будут новые данные по следующим неделям, расчет LTV также будет проведен и построены все последующие графики."
   ]
  },
  {
   "cell_type": "code",
   "execution_count": 1,
   "id": "17fcebae",
   "metadata": {
    "scrolled": true
   },
   "outputs": [],
   "source": [
    "#импорт необходимых библиотек\n",
    "import pandas as pd\n",
    "from datetime import datetime, timedelta \n",
    "#загрузка датафрейма из csv файла\n",
    "data=pd.read_csv('test case data analyst.csv')\n",
    "#преобразование даты покупки из строковых переменных в datatime\n",
    "dates=data['purchase_date']\n",
    "dates_obj=[]\n",
    "for n in range(len(dates)):\n",
    "    dates_obj.append(datetime.strptime(dates[n], \"%m/%d/%Y\"))\n",
    "cohort=timedelta(days=7) #выбор рассматриваемых когорт длиной в 7 дней\n",
    "#создание списка с датами начала каждой когорты\n",
    "cohort_begin=[]\n",
    "cohort_begin.append(min(dates_obj))\n",
    "cohorts_numbers=round(len(data['purchase_date'].unique())/7)\n",
    "for n in range(cohorts_numbers):\n",
    "    if cohort_begin[n]<max(dates_obj):\n",
    "        cohort_begin.append(cohort_begin[n] + cohort)\n",
    "\n",
    "#создание списка суммы новых клиентов в каждой когорте и создание списка прибыли в каждой когорте         \n",
    "TF=data['is_trial_period']\n",
    "new_users_per_cohort=[]\n",
    "profit_per_cohort=[]\n",
    "subscription=4.99\n",
    "for m in range(len(cohort_begin)):\n",
    "    T=0\n",
    "    F=0\n",
    "    for n in range(len(TF)) :\n",
    "        if TF[n]==True and  dates_obj[n]>=cohort_begin[m] and dates_obj[n]<(cohort_begin[m]+cohort):\n",
    "            T=T+1\n",
    "        elif TF[n]==False and  dates_obj[n]>=cohort_begin[m] and dates_obj[n]<(cohort_begin[m]+cohort):\n",
    "            F=F+1\n",
    "    new_users_per_cohort.append(T)\n",
    "    profit_per_cohort.append(F*subscription)\n",
    "#создание списка с расчетом LTV для каждой когорты\n",
    "LTV=[]\n",
    "LTV.append(0)\n",
    "for n in range(1, len(profit_per_cohort)):\n",
    "    LTV.append(sum(profit_per_cohort[:n+1])/sum(new_users_per_cohort[:n]))\n",
    "\n",
    "\n"
   ]
  },
  {
   "cell_type": "code",
   "execution_count": 2,
   "id": "a0d45111",
   "metadata": {},
   "outputs": [
    {
     "data": {
      "image/png": "[encoded data removed]",
      "text/plain": [
       "<Figure size 432x288 with 1 Axes>"
      ]
     },
     "metadata": {
      "needs_background": "light"
     },
     "output_type": "display_data"
    }
   ],
   "source": [
    "#импорт необходимых библиотек для вывода графика зависимости LTV от времени (разбито по когортам)\n",
    "import numpy as np\n",
    "from numpy import array\n",
    "import matplotlib.pyplot as plt\n",
    "#x = np.arange(1, len(cohort_begin)+1)\n",
    "x=array(range(1, len(cohort_begin)+1))\n",
    "y = array([LTV])\n",
    "\n",
    "plt.scatter(x, y, color = 'red' )\n",
    "plt.plot([i for i in range(1, len(cohort_begin)+1)], LTV, color = 'red', label=\"Real LTV\")\n",
    "plt.title('LTV by Cohorts')\n",
    "plt.xlabel('Weeks')\n",
    "plt.ylabel('LTV, USD')\n",
    "plt.legend(loc = 'best', fancybox = True, shadow = True) \n",
    "plt.grid(True)\n",
    "plt.show()"
   ]
  },
  {
   "cell_type": "markdown",
   "id": "3bd17542",
   "metadata": {},
   "source": [
    "Выше график расчетного LTV по предоставленным данным."
   ]
  },
  {
   "cell_type": "markdown",
   "id": "45e068c2",
   "metadata": {},
   "source": [
    "#### Прогнозирование LTV на полгода"
   ]
  },
  {
   "cell_type": "markdown",
   "id": "795d9220",
   "metadata": {},
   "source": [
    "Для расчета прогнозируемого LTV из существующих данных нужно удалить 5 % верхних и 5 % нижних выпадающих показателей, которые могут исказить среднюю тенденцию. Тк мы уже видим, что данные у нас за 8 недель, я сделала удаление первой и последней строки.\n"
   ]
  },
  {
   "cell_type": "code",
   "execution_count": 3,
   "id": "1f5a0f42",
   "metadata": {},
   "outputs": [
    {
     "data": {
      "text/plain": [
       "4.156804061640604"
      ]
     },
     "execution_count": 3,
     "metadata": {},
     "output_type": "execute_result"
    }
   ],
   "source": [
    "#удаление краевых значений, чтобы избежать искажения средней тенденции \n",
    "optim_LTV=LTV\n",
    "optim_LTV.pop(0)\n",
    "optim_LTV.pop()"
   ]
  },
  {
   "cell_type": "code",
   "execution_count": 4,
   "id": "a916a13c",
   "metadata": {
    "scrolled": false
   },
   "outputs": [
    {
     "data": {
      "image/png": "[encoded data removed]",
      "text/plain": [
       "<Figure size 432x288 with 1 Axes>"
      ]
     },
     "metadata": {
      "needs_background": "light"
     },
     "output_type": "display_data"
    }
   ],
   "source": [
    "from scipy.optimize import curve_fit\n",
    "from numpy import log \n",
    "\n",
    "weeks=array(range(len(cohort_begin)-2))\n",
    "#определение целевой функции, выбрала логарифмическую, тк она дает лучшие результаты на 5-6 месяцев\n",
    "\n",
    "def mapping(weeks, a, b,c): \n",
    "    return a *log(weeks + b)+c \n",
    "\n",
    "args, _ = curve_fit(mapping, weeks, optim_LTV) \n",
    "a, b, c = args[0], args[1],  args[2]\n",
    "predict_weeks=array(range(1,28))\n",
    "predict_LTV = a * log(predict_weeks+ b)+c\n",
    "\n",
    "plt.scatter(x, y, color = 'red',label=\"Real LTV\" )\n",
    "plt.plot(predict_weeks, predict_LTV, label=\"Predict LTV\", color = 'green') \n",
    "plt.title('LTV by Cohorts')\n",
    "plt.xlabel('Weeks')\n",
    "plt.ylabel('LTV, USD')\n",
    "plt.legend(loc = 'best', fancybox = True, shadow = True) \n",
    "plt.grid(True) \n",
    "plt.show() "
   ]
  },
  {
   "cell_type": "markdown",
   "id": "1a0d7749",
   "metadata": {},
   "source": [
    "Выше график расчетного LTV по предоставленным данным (красным цветом) и график прогнозируемого LTV (зеленыого цвета).\n"
   ]
  },
  {
   "cell_type": "markdown",
   "id": "f5efabd8",
   "metadata": {},
   "source": [
    "#### Расчет ROMI\n",
    "Cтоимость привлечения платящего пользователя 6 USD."
   ]
  },
  {
   "cell_type": "markdown",
   "id": "9e183b18",
   "metadata": {},
   "source": [
    "*Расчет ROMI на 4 недели*"
   ]
  },
  {
   "cell_type": "code",
   "execution_count": 5,
   "id": "8729109b",
   "metadata": {},
   "outputs": [
    {
     "name": "stdout",
     "output_type": "stream",
     "text": [
      "ROMI for 4 weeks is 149.5 %\n"
     ]
    }
   ],
   "source": [
    "User_cost=6\n",
    "weeks_for_calc=4\n",
    "\n",
    "ROMI=((weeks_for_calc-1)*subscription-User_cost)/User_cost*100\n",
    "\n",
    "print('ROMI for',weeks_for_calc,'weeks is',round(ROMI, 2), '%')"
   ]
  },
  {
   "cell_type": "markdown",
   "id": "e91f1e6b",
   "metadata": {},
   "source": [
    "*Расчет ROMI на полгода (~27 недель)*"
   ]
  },
  {
   "cell_type": "code",
   "execution_count": 6,
   "id": "d60f0bdf",
   "metadata": {},
   "outputs": [
    {
     "name": "stdout",
     "output_type": "stream",
     "text": [
      "ROMI for 27 weeks is 2062.33 %\n"
     ]
    }
   ],
   "source": [
    "weeks_for_calc=27\n",
    "\n",
    "ROMI=((weeks_for_calc-1)*subscription-User_cost)/User_cost*100\n",
    "\n",
    "print('ROMI for',weeks_for_calc,'weeks is',round(ROMI, 2), '%')"
   ]
  },
  {
   "cell_type": "code",
   "execution_count": null,
   "id": "3668a397",
   "metadata": {},
   "outputs": [],
   "source": []
  }
 ],
 "metadata": {
  "kernelspec": {
   "display_name": "Python 3 (ipykernel)",
   "language": "python",
   "name": "python3"
  },
  "language_info": {
   "codemirror_mode": {
    "name": "ipython",
    "version": 3
   },
   "file_extension": ".py",
   "mimetype": "text/x-python",
   "name": "python",
   "nbconvert_exporter": "python",
   "pygments_lexer": "ipython3",
   "version": "3.9.7"
  }
 },
 "nbformat": 4,
 "nbformat_minor": 5
}
